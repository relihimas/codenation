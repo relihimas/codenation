{
 "cells": [
  {
   "cell_type": "markdown",
   "metadata": {},
   "source": [
    "# ENEM 2016"
   ]
  },
  {
   "cell_type": "code",
   "execution_count": 1,
   "metadata": {},
   "outputs": [],
   "source": [
    "# Importar bibliotecas de manipulação de dados\n",
    "\n",
    "import pandas as pd\n",
    "import numpy as np\n",
    "import warnings\n",
    "import seaborn as sns\n",
    "import matplotlib.pyplot as plt\n",
    "warnings.filterwarnings('ignore', category= DeprecationWarning)\n",
    "from pandas_profiling import ProfileReport\n",
    "from matplotlib import style\n",
    "style.use(\"ggplot\")"
   ]
  },
  {
   "cell_type": "code",
   "execution_count": 2,
   "metadata": {},
   "outputs": [],
   "source": [
    "#Importando o arquivo de dados treino \n",
    "nota= pd.read_csv('train.csv', usecols = ['NU_INSCRICAO','CO_UF_RESIDENCIA','SG_UF_RESIDENCIA','NU_IDADE','TP_SEXO','TP_COR_RACA','TP_NACIONALIDADE','TP_ST_CONCLUSAO','TP_ANO_CONCLUIU','TP_ESCOLA','TP_ENSINO','IN_TREINEIRO','TP_DEPENDENCIA_ADM_ESC','IN_BAIXA_VISAO','IN_CEGUEIRA','IN_SURDEZ','IN_DISLEXIA','IN_DISCALCULIA','IN_SABATISTA','IN_GESTANTE','IN_IDOSO','TP_PRESENCA_CN','TP_PRESENCA_CH','TP_PRESENCA_LC','TP_PRESENCA_MT','CO_PROVA_CN','CO_PROVA_CH','CO_PROVA_LC','CO_PROVA_MT','NU_NOTA_CN','NU_NOTA_CH','NU_NOTA_LC','NU_NOTA_MT','TP_LINGUA','TP_STATUS_REDACAO','NU_NOTA_COMP1','NU_NOTA_COMP2','NU_NOTA_COMP3','NU_NOTA_COMP4','NU_NOTA_COMP5','NU_NOTA_REDACAO','Q001','Q002','Q006','Q024','Q025','Q026','Q027','Q047'])\n",
    "nteste = pd.read_csv('test.csv')"
   ]
  },
  {
   "cell_type": "code",
   "execution_count": null,
   "metadata": {},
   "outputs": [],
   "source": [
    "#verificando dimensão\n",
    "nota.shape"
   ]
  },
  {
   "cell_type": "code",
   "execution_count": null,
   "metadata": {},
   "outputs": [],
   "source": [
    "#verificando vazios\n",
    "nota.isnull().sum()"
   ]
  },
  {
   "cell_type": "code",
   "execution_count": 3,
   "metadata": {},
   "outputs": [],
   "source": [
    "#preenchendo a coluna TP_ENSINO\n",
    "repl1 = nota['TP_ENSINO'].fillna(1)\n",
    "nota['TP_ENSINO'] = repl1\n",
    "\n",
    "repl2 = nota['TP_DEPENDENCIA_ADM_ESC'].fillna(4)\n",
    "nota['TP_DEPENDENCIA_ADM_ESC'] = repl2\n",
    "\n",
    "repl3 = nota['Q027'].fillna('N')\n",
    "nota['Q027'] = repl3"
   ]
  },
  {
   "cell_type": "code",
   "execution_count": 4,
   "metadata": {},
   "outputs": [],
   "source": [
    "#preenchendo a coluna TP_ENSINO\n",
    "replt1 = nteste['TP_ENSINO'].fillna(1)\n",
    "nteste['TP_ENSINO'] = replt1\n",
    "\n",
    "replt2 = nteste['TP_DEPENDENCIA_ADM_ESC'].fillna(4)\n",
    "nteste['TP_DEPENDENCIA_ADM_ESC'] = replt2\n",
    "\n",
    "replt3 = nteste['Q027'].fillna('N')\n",
    "nteste['Q027'] = replt3"
   ]
  },
  {
   "cell_type": "code",
   "execution_count": 5,
   "metadata": {},
   "outputs": [],
   "source": [
    "# preenchendo as notas onde a presença foi 0 ou 2\n",
    "nota.loc[nota['TP_PRESENCA_CN'] == 0, ['NU_NOTA_CN']] = 0\n",
    "nota.loc[nota['TP_PRESENCA_CN'] == 2, ['NU_NOTA_CN']] = 0\n",
    "nota.loc[nota['TP_PRESENCA_CH'] == 0, ['NU_NOTA_CH']] = 0\n",
    "nota.loc[nota['TP_PRESENCA_CH'] == 2, ['NU_NOTA_CH']] = 0\n",
    "nota.loc[nota['TP_PRESENCA_MT'] == 0, ['NU_NOTA_MT']] = 0\n",
    "nota.loc[nota['TP_PRESENCA_MT'] == 2, ['NU_NOTA_MT']] = 0\n",
    "nota.loc[nota['TP_PRESENCA_LC'] == 0, ['NU_NOTA_LC']] = 0\n",
    "nota.loc[nota['TP_PRESENCA_LC'] == 2, ['NU_NOTA_LC']] = 0"
   ]
  },
  {
   "cell_type": "code",
   "execution_count": 6,
   "metadata": {},
   "outputs": [],
   "source": [
    "#preenchendo as notas de redação\n",
    "nota.loc[nota['TP_PRESENCA_CN'] == 0, ['TP_STATUS_REDACAO']] = 4\n",
    "nota.loc[nota['TP_PRESENCA_CN'] == 0, ['NU_NOTA_COMP1']] = 0\n",
    "nota.loc[nota['TP_PRESENCA_CN'] == 0, ['NU_NOTA_COMP2']] = 0\n",
    "nota.loc[nota['TP_PRESENCA_CN'] == 0, ['NU_NOTA_COMP3']] = 0\n",
    "nota.loc[nota['TP_PRESENCA_CN'] == 0, ['NU_NOTA_COMP4']] = 0\n",
    "nota.loc[nota['TP_PRESENCA_CN'] == 0, ['NU_NOTA_COMP5']] = 0\n",
    "nota.loc[nota['TP_PRESENCA_CN'] == 0, ['NU_NOTA_REDACAO']] = 0"
   ]
  },
  {
   "cell_type": "code",
   "execution_count": 7,
   "metadata": {},
   "outputs": [],
   "source": [
    "nota.loc[nota['TP_PRESENCA_CN'] == 1, ['TP_STATUS_REDACAO']] = 6\n",
    "nota.loc[nota['TP_PRESENCA_CN'] == 2, ['TP_STATUS_REDACAO']] = 6\n",
    "nota.loc[nota['TP_PRESENCA_CN'] == 1, ['NU_NOTA_COMP1']] = 0\n",
    "nota.loc[nota['TP_PRESENCA_CN'] == 2, ['NU_NOTA_COMP1']] = 0\n",
    "nota.loc[nota['TP_PRESENCA_CN'] == 1, ['NU_NOTA_COMP2']] = 0\n",
    "nota.loc[nota['TP_PRESENCA_CN'] == 2, ['NU_NOTA_COMP2']] = 0\n",
    "nota.loc[nota['TP_PRESENCA_CN'] == 1, ['NU_NOTA_COMP3']] = 0\n",
    "nota.loc[nota['TP_PRESENCA_CN'] == 2, ['NU_NOTA_COMP3']] = 0\n",
    "nota.loc[nota['TP_PRESENCA_CN'] == 1, ['NU_NOTA_COMP4']] = 0\n",
    "nota.loc[nota['TP_PRESENCA_CN'] == 2, ['NU_NOTA_COMP4']] = 0\n",
    "nota.loc[nota['TP_PRESENCA_CN'] == 1, ['NU_NOTA_COMP5']] = 0\n",
    "nota.loc[nota['TP_PRESENCA_CN'] == 2, ['NU_NOTA_COMP5']] = 0\n",
    "nota.loc[nota['TP_PRESENCA_CN'] == 1, ['NU_NOTA_REDACAO']] = 0\n",
    "nota.loc[nota['TP_PRESENCA_CN'] == 2, ['NU_NOTA_REDACAO']] = 0"
   ]
  },
  {
   "cell_type": "code",
   "execution_count": 8,
   "metadata": {},
   "outputs": [],
   "source": [
    "nteste.loc[nteste['TP_PRESENCA_CN'] == 0, ['NU_NOTA_CN']] = 0\n",
    "nteste.loc[nteste['TP_PRESENCA_CN'] == 2, ['NU_NOTA_CN']] = 0\n",
    "nteste.loc[nteste['TP_PRESENCA_CH'] == 0, ['NU_NOTA_CH']] = 0\n",
    "nteste.loc[nteste['TP_PRESENCA_CH'] == 2, ['NU_NOTA_CH']] = 0\n",
    "nteste.loc[nteste['TP_PRESENCA_LC'] == 0, ['NU_NOTA_LC']] = 0\n",
    "nteste.loc[nteste['TP_PRESENCA_LC'] == 2, ['NU_NOTA_LC']] = 0"
   ]
  },
  {
   "cell_type": "code",
   "execution_count": 9,
   "metadata": {},
   "outputs": [],
   "source": [
    "nteste.loc[nteste['TP_PRESENCA_CN'] == 0, ['TP_STATUS_REDACAO']] = 4\n",
    "nteste.loc[nteste['TP_PRESENCA_CN'] == 0, ['NU_NOTA_COMP1']] = 0\n",
    "nteste.loc[nteste['TP_PRESENCA_CN'] == 0, ['NU_NOTA_COMP2']] = 0\n",
    "nteste.loc[nteste['TP_PRESENCA_CN'] == 0, ['NU_NOTA_COMP3']] = 0\n",
    "nteste.loc[nteste['TP_PRESENCA_CN'] == 0, ['NU_NOTA_COMP4']] = 0\n",
    "nteste.loc[nteste['TP_PRESENCA_CN'] == 0, ['NU_NOTA_COMP5']] = 0\n",
    "nteste.loc[nteste['TP_PRESENCA_CN'] == 0, ['NU_NOTA_REDACAO']] = 0"
   ]
  },
  {
   "cell_type": "code",
   "execution_count": 10,
   "metadata": {},
   "outputs": [],
   "source": [
    "nteste.loc[nteste['TP_PRESENCA_CN'] == 0, ['TP_STATUS_REDACAO']] = 6\n",
    "nteste.loc[nteste['TP_PRESENCA_CN'] == 0, ['NU_NOTA_COMP1']] = 0\n",
    "nteste.loc[nteste['TP_PRESENCA_CN'] == 0, ['NU_NOTA_COMP2']] = 0\n",
    "nteste.loc[nteste['TP_PRESENCA_CN'] == 0, ['NU_NOTA_COMP3']] = 0\n",
    "nteste.loc[nteste['TP_PRESENCA_CN'] == 0, ['NU_NOTA_COMP4']] = 0\n",
    "nteste.loc[nteste['TP_PRESENCA_CN'] == 0, ['NU_NOTA_COMP5']] = 0\n",
    "nteste.loc[nteste['TP_PRESENCA_CN'] == 0, ['NU_NOTA_REDACAO']] = 0\n",
    "\n",
    "replt4 = nteste['TP_STATUS_REDACAO'].fillna(4)\n",
    "nteste['TP_STATUS_REDACAO'] = replt4\n",
    "\n",
    "replt5 = nteste['NU_NOTA_COMP1'].fillna(0)\n",
    "nteste['NU_NOTA_COMP1'] = replt5\n",
    "\n",
    "replt6 = nteste['NU_NOTA_COMP2'].fillna(0)\n",
    "nteste['NU_NOTA_COMP2'] = replt6\n",
    "\n",
    "replt7 = nteste['NU_NOTA_COMP3'].fillna(0)\n",
    "nteste['NU_NOTA_COMP3'] = replt7\n",
    "\n",
    "replt8 = nteste['NU_NOTA_COMP4'].fillna(0)\n",
    "nteste['NU_NOTA_COMP4'] = replt8\n",
    "\n",
    "replt9 = nteste['NU_NOTA_COMP5'].fillna(0)\n",
    "nteste['NU_NOTA_COMP5'] = replt9\n",
    "\n",
    "replt10 = nteste['NU_NOTA_REDACAO'].fillna(0)\n",
    "nteste['NU_NOTA_REDACAO'] = replt10"
   ]
  },
  {
   "cell_type": "code",
   "execution_count": null,
   "metadata": {},
   "outputs": [],
   "source": [
    "nota.head()"
   ]
  },
  {
   "cell_type": "code",
   "execution_count": null,
   "metadata": {},
   "outputs": [],
   "source": [
    "nota.info()"
   ]
  },
  {
   "cell_type": "markdown",
   "metadata": {},
   "source": [
    "# Label Encoder"
   ]
  },
  {
   "cell_type": "code",
   "execution_count": 11,
   "metadata": {},
   "outputs": [],
   "source": [
    "from sklearn.preprocessing import LabelEncoder"
   ]
  },
  {
   "cell_type": "code",
   "execution_count": 12,
   "metadata": {},
   "outputs": [],
   "source": [
    "enc = LabelEncoder()"
   ]
  },
  {
   "cell_type": "code",
   "execution_count": null,
   "metadata": {},
   "outputs": [],
   "source": [
    "nota"
   ]
  },
  {
   "cell_type": "code",
   "execution_count": 13,
   "metadata": {
    "scrolled": true
   },
   "outputs": [],
   "source": [
    "nota['SG_UF_RESIDENCIA'] = enc.fit_transform(nota['SG_UF_RESIDENCIA'])\n",
    "nteste['SG_UF_RESIDENCIA'] = enc.transform(nteste['SG_UF_RESIDENCIA'])\n",
    "\n",
    "nota['TP_SEXO'] = enc.fit_transform(nota['TP_SEXO'])\n",
    "nteste['TP_SEXO'] = enc.transform(nteste['TP_SEXO'])\n",
    "\n",
    "nota['CO_PROVA_CN'] = enc.fit_transform(nota['CO_PROVA_CN'])\n",
    "nteste['CO_PROVA_CN'] = enc.transform(nteste['CO_PROVA_CN'])\n",
    "\n",
    "nota['CO_PROVA_CH'] = enc.fit_transform(nota['CO_PROVA_CH'])\n",
    "nteste['CO_PROVA_CH'] = enc.transform(nteste['CO_PROVA_CH'])\n",
    "\n",
    "nota['CO_PROVA_LC'] = enc.fit_transform(nota['CO_PROVA_LC'])\n",
    "nteste['CO_PROVA_LC'] = enc.transform(nteste['CO_PROVA_LC'])\n",
    "\n",
    "nota['CO_PROVA_MT'] = enc.fit_transform(nota['CO_PROVA_MT'])\n",
    "nteste['CO_PROVA_MT'] = enc.transform(nteste['CO_PROVA_MT'])\n",
    "\n",
    "nota['Q001'] = enc.fit_transform(nota['Q001'])\n",
    "nteste['Q001'] = enc.transform(nteste['Q001'])\n",
    "\n",
    "nota['Q002'] = enc.fit_transform(nota['Q002'])\n",
    "nteste['Q002'] = enc.transform(nteste['Q002'])\n",
    "\n",
    "nota['Q006'] = enc.fit_transform(nota['Q006'])\n",
    "nteste['Q006'] = enc.transform(nteste['Q006'])\n",
    "\n",
    "nota['Q024'] = enc.fit_transform(nota['Q024'])\n",
    "nteste['Q024'] = enc.transform(nteste['Q024'])\n",
    "\n",
    "nota['Q025'] = enc.fit_transform(nota['Q025'])\n",
    "nteste['Q025'] = enc.transform(nteste['Q025'])\n",
    "\n",
    "nota['Q026'] = enc.fit_transform(nota['Q026'])\n",
    "nteste['Q026'] = enc.transform(nteste['Q026'])\n",
    "\n",
    "nota['Q027'] = enc.fit_transform(nota['Q027'])\n",
    "nteste['Q027'] = enc.transform(nteste['Q027'])\n",
    "\n",
    "nota['Q047'] = enc.fit_transform(nota['Q047'])\n",
    "nteste['Q047'] = enc.transform(nteste['Q047'])"
   ]
  },
  {
   "cell_type": "code",
   "execution_count": null,
   "metadata": {},
   "outputs": [],
   "source": [
    "nota['SG_UF_RESIDENCIA_inte'] = inte2\n",
    "nteste['SG_UF_RESIDENCIA_inte'] = tinte2\n",
    "\n",
    "nota['TP_SEXO_inte'] = inte3\n",
    "nteste['TP_SEXO_inte'] = tinte3\n",
    "\n",
    "nota['CO_PROVA_CN_inte'] = inte4\n",
    "nteste['CO_PROVA_CN_inte'] = tinte4\n",
    "\n",
    "nota['CO_PROVA_CH_inte'] = inte5\n",
    "nteste['CO_PROVA_CH_inte'] = tinte5\n",
    "\n",
    "nota['CO_PROVA_LC_inte'] = inte6\n",
    "nteste['CO_PROVA_LC_inte'] = tinte6\n",
    "\n",
    "nota['CO_PROVA_MT_inte'] = inte7\n",
    "nteste['CO_PROVA_MT_inte'] = tinte7\n",
    "\n",
    "nota['Q001_inte'] = inte8\n",
    "nteste['Q001_inte'] = tinte8\n",
    "\n",
    "nota['Q002_inte'] = inte9\n",
    "nteste['Q002_inte'] = tinte9\n",
    "\n",
    "nota['Q006_inte'] = inte10\n",
    "nteste['Q006_inte'] = tinte10\n",
    "\n",
    "nota['Q024_inte'] = inte11\n",
    "nteste['Q024_inte'] = tinte11\n",
    "\n",
    "nota['Q025_inte'] = inte12\n",
    "nteste['Q025_inte'] = tinte12\n",
    "\n",
    "nota['Q026_inte'] = inte13\n",
    "nteste['Q026_inte'] = tinte13\n",
    "\n",
    "nota['Q027_inte'] = inte14\n",
    "nteste['Q027_inte'] = tinte14\n",
    "\n",
    "nota['Q047_inte'] = inte15\n",
    "nteste['Q047_inte'] = tinte15"
   ]
  },
  {
   "cell_type": "code",
   "execution_count": 17,
   "metadata": {},
   "outputs": [],
   "source": [
    "df = pd.DataFrame(nteste, columns = ['NU_INSCRICAO', 'NU_NOTA_MT'])"
   ]
  },
  {
   "cell_type": "code",
   "execution_count": 22,
   "metadata": {
    "collapsed": true
   },
   "outputs": [
    {
     "data": {
      "text/html": [
       "<div>\n",
       "<style scoped>\n",
       "    .dataframe tbody tr th:only-of-type {\n",
       "        vertical-align: middle;\n",
       "    }\n",
       "\n",
       "    .dataframe tbody tr th {\n",
       "        vertical-align: top;\n",
       "    }\n",
       "\n",
       "    .dataframe thead th {\n",
       "        text-align: right;\n",
       "    }\n",
       "</style>\n",
       "<table border=\"1\" class=\"dataframe\">\n",
       "  <thead>\n",
       "    <tr style=\"text-align: right;\">\n",
       "      <th></th>\n",
       "      <th>index</th>\n",
       "      <th>NU_INSCRICAO</th>\n",
       "      <th>NU_NOTA_MT</th>\n",
       "    </tr>\n",
       "  </thead>\n",
       "  <tbody>\n",
       "    <tr>\n",
       "      <th>0</th>\n",
       "      <td>0</td>\n",
       "      <td>73ff9fcc02f0a99919906c942c2e1a1042cdcf98</td>\n",
       "      <td>NaN</td>\n",
       "    </tr>\n",
       "    <tr>\n",
       "      <th>1</th>\n",
       "      <td>1</td>\n",
       "      <td>71a95f9f1b91a82c65ad94abbdf9f54e6066f968</td>\n",
       "      <td>NaN</td>\n",
       "    </tr>\n",
       "    <tr>\n",
       "      <th>2</th>\n",
       "      <td>2</td>\n",
       "      <td>b38a03232f43b11c9d0788abaf060f7366053b6d</td>\n",
       "      <td>NaN</td>\n",
       "    </tr>\n",
       "    <tr>\n",
       "      <th>3</th>\n",
       "      <td>3</td>\n",
       "      <td>70b682d9a3636be23f6120fa9d6b164eb3c6002d</td>\n",
       "      <td>NaN</td>\n",
       "    </tr>\n",
       "    <tr>\n",
       "      <th>4</th>\n",
       "      <td>4</td>\n",
       "      <td>715494628a50142ce8cb17191cfe6d0f3cae0934</td>\n",
       "      <td>NaN</td>\n",
       "    </tr>\n",
       "    <tr>\n",
       "      <th>...</th>\n",
       "      <td>...</td>\n",
       "      <td>...</td>\n",
       "      <td>...</td>\n",
       "    </tr>\n",
       "    <tr>\n",
       "      <th>4571</th>\n",
       "      <td>4571</td>\n",
       "      <td>dac0f22429c7f8e3931d0abaf5dfc8e5c772a48b</td>\n",
       "      <td>NaN</td>\n",
       "    </tr>\n",
       "    <tr>\n",
       "      <th>4572</th>\n",
       "      <td>4572</td>\n",
       "      <td>a75fa8770257e7c9368d059fe53d9ef431f4bdef</td>\n",
       "      <td>NaN</td>\n",
       "    </tr>\n",
       "    <tr>\n",
       "      <th>4573</th>\n",
       "      <td>4573</td>\n",
       "      <td>655fa6306720ff16e825903b5422a46608a77545</td>\n",
       "      <td>NaN</td>\n",
       "    </tr>\n",
       "    <tr>\n",
       "      <th>4574</th>\n",
       "      <td>4574</td>\n",
       "      <td>1f4bc3e3d56212d500625bfe8ac78ccff4362293</td>\n",
       "      <td>NaN</td>\n",
       "    </tr>\n",
       "    <tr>\n",
       "      <th>4575</th>\n",
       "      <td>4575</td>\n",
       "      <td>adf0d15b54317b6564ef56dad2b775bbb0ef50cc</td>\n",
       "      <td>NaN</td>\n",
       "    </tr>\n",
       "  </tbody>\n",
       "</table>\n",
       "<p>4576 rows × 3 columns</p>\n",
       "</div>"
      ],
      "text/plain": [
       "      index                              NU_INSCRICAO  NU_NOTA_MT\n",
       "0         0  73ff9fcc02f0a99919906c942c2e1a1042cdcf98         NaN\n",
       "1         1  71a95f9f1b91a82c65ad94abbdf9f54e6066f968         NaN\n",
       "2         2  b38a03232f43b11c9d0788abaf060f7366053b6d         NaN\n",
       "3         3  70b682d9a3636be23f6120fa9d6b164eb3c6002d         NaN\n",
       "4         4  715494628a50142ce8cb17191cfe6d0f3cae0934         NaN\n",
       "...     ...                                       ...         ...\n",
       "4571   4571  dac0f22429c7f8e3931d0abaf5dfc8e5c772a48b         NaN\n",
       "4572   4572  a75fa8770257e7c9368d059fe53d9ef431f4bdef         NaN\n",
       "4573   4573  655fa6306720ff16e825903b5422a46608a77545         NaN\n",
       "4574   4574  1f4bc3e3d56212d500625bfe8ac78ccff4362293         NaN\n",
       "4575   4575  adf0d15b54317b6564ef56dad2b775bbb0ef50cc         NaN\n",
       "\n",
       "[4576 rows x 3 columns]"
      ]
     },
     "execution_count": 22,
     "metadata": {},
     "output_type": "execute_result"
    }
   ],
   "source": [
    "df.reset_index()"
   ]
  },
  {
   "cell_type": "code",
   "execution_count": 25,
   "metadata": {},
   "outputs": [],
   "source": [
    "df.set_index('NU_INSCRICAO', inplace=True)"
   ]
  },
  {
   "cell_type": "code",
   "execution_count": 26,
   "metadata": {},
   "outputs": [
    {
     "data": {
      "text/html": [
       "<div>\n",
       "<style scoped>\n",
       "    .dataframe tbody tr th:only-of-type {\n",
       "        vertical-align: middle;\n",
       "    }\n",
       "\n",
       "    .dataframe tbody tr th {\n",
       "        vertical-align: top;\n",
       "    }\n",
       "\n",
       "    .dataframe thead th {\n",
       "        text-align: right;\n",
       "    }\n",
       "</style>\n",
       "<table border=\"1\" class=\"dataframe\">\n",
       "  <thead>\n",
       "    <tr style=\"text-align: right;\">\n",
       "      <th></th>\n",
       "      <th>NU_NOTA_MT</th>\n",
       "    </tr>\n",
       "    <tr>\n",
       "      <th>NU_INSCRICAO</th>\n",
       "      <th></th>\n",
       "    </tr>\n",
       "  </thead>\n",
       "  <tbody>\n",
       "    <tr>\n",
       "      <th>73ff9fcc02f0a99919906c942c2e1a1042cdcf98</th>\n",
       "      <td>NaN</td>\n",
       "    </tr>\n",
       "    <tr>\n",
       "      <th>71a95f9f1b91a82c65ad94abbdf9f54e6066f968</th>\n",
       "      <td>NaN</td>\n",
       "    </tr>\n",
       "    <tr>\n",
       "      <th>b38a03232f43b11c9d0788abaf060f7366053b6d</th>\n",
       "      <td>NaN</td>\n",
       "    </tr>\n",
       "    <tr>\n",
       "      <th>70b682d9a3636be23f6120fa9d6b164eb3c6002d</th>\n",
       "      <td>NaN</td>\n",
       "    </tr>\n",
       "    <tr>\n",
       "      <th>715494628a50142ce8cb17191cfe6d0f3cae0934</th>\n",
       "      <td>NaN</td>\n",
       "    </tr>\n",
       "    <tr>\n",
       "      <th>...</th>\n",
       "      <td>...</td>\n",
       "    </tr>\n",
       "    <tr>\n",
       "      <th>dac0f22429c7f8e3931d0abaf5dfc8e5c772a48b</th>\n",
       "      <td>NaN</td>\n",
       "    </tr>\n",
       "    <tr>\n",
       "      <th>a75fa8770257e7c9368d059fe53d9ef431f4bdef</th>\n",
       "      <td>NaN</td>\n",
       "    </tr>\n",
       "    <tr>\n",
       "      <th>655fa6306720ff16e825903b5422a46608a77545</th>\n",
       "      <td>NaN</td>\n",
       "    </tr>\n",
       "    <tr>\n",
       "      <th>1f4bc3e3d56212d500625bfe8ac78ccff4362293</th>\n",
       "      <td>NaN</td>\n",
       "    </tr>\n",
       "    <tr>\n",
       "      <th>adf0d15b54317b6564ef56dad2b775bbb0ef50cc</th>\n",
       "      <td>NaN</td>\n",
       "    </tr>\n",
       "  </tbody>\n",
       "</table>\n",
       "<p>4576 rows × 1 columns</p>\n",
       "</div>"
      ],
      "text/plain": [
       "                                          NU_NOTA_MT\n",
       "NU_INSCRICAO                                        \n",
       "73ff9fcc02f0a99919906c942c2e1a1042cdcf98         NaN\n",
       "71a95f9f1b91a82c65ad94abbdf9f54e6066f968         NaN\n",
       "b38a03232f43b11c9d0788abaf060f7366053b6d         NaN\n",
       "70b682d9a3636be23f6120fa9d6b164eb3c6002d         NaN\n",
       "715494628a50142ce8cb17191cfe6d0f3cae0934         NaN\n",
       "...                                              ...\n",
       "dac0f22429c7f8e3931d0abaf5dfc8e5c772a48b         NaN\n",
       "a75fa8770257e7c9368d059fe53d9ef431f4bdef         NaN\n",
       "655fa6306720ff16e825903b5422a46608a77545         NaN\n",
       "1f4bc3e3d56212d500625bfe8ac78ccff4362293         NaN\n",
       "adf0d15b54317b6564ef56dad2b775bbb0ef50cc         NaN\n",
       "\n",
       "[4576 rows x 1 columns]"
      ]
     },
     "execution_count": 26,
     "metadata": {},
     "output_type": "execute_result"
    }
   ],
   "source": [
    "df"
   ]
  },
  {
   "cell_type": "code",
   "execution_count": 27,
   "metadata": {},
   "outputs": [],
   "source": [
    "nota.drop(['NU_INSCRICAO','TP_PRESENCA_MT'], axis=1, inplace=True)\n",
    "\n",
    "nteste.drop(['NU_INSCRICAO'], axis=1, inplace=True)"
   ]
  },
  {
   "cell_type": "code",
   "execution_count": null,
   "metadata": {},
   "outputs": [],
   "source": [
    "nota.drop(['NU_INSCRICAO','SG_UF_RESIDENCIA','TP_SEXO','CO_PROVA_CN','CO_PROVA_CH','CO_PROVA_LC',\n",
    "           'CO_PROVA_MT','Q001','Q002','Q006','Q024','Q025','Q026','Q027','Q047','TP_PRESENCA_MT'], axis=1, inplace=True)\n",
    "\n",
    "nteste.drop(['NU_INSCRICAO','SG_UF_RESIDENCIA','TP_SEXO','CO_PROVA_CN','CO_PROVA_CH','CO_PROVA_LC',\n",
    "           'CO_PROVA_MT','Q001','Q002','Q006','Q024','Q025','Q026','Q027','Q047'], axis=1, inplace=True)"
   ]
  },
  {
   "cell_type": "code",
   "execution_count": null,
   "metadata": {
    "scrolled": true
   },
   "outputs": [],
   "source": [
    "pres = 0\n",
    "nteste['TP_PRESENCA_MT'] = pres"
   ]
  },
  {
   "cell_type": "code",
   "execution_count": null,
   "metadata": {},
   "outputs": [],
   "source": [
    "nteste.loc[nteste['TP_PRESENCA_CN'] == 0, ['TP_PRESENCA_MT']] = 0\n",
    "nteste.loc[nteste['TP_PRESENCA_CN'] == 1, ['TP_PRESENCA_MT']] = 1"
   ]
  },
  {
   "cell_type": "markdown",
   "metadata": {},
   "source": [
    "# Standard Scaler"
   ]
  },
  {
   "cell_type": "code",
   "execution_count": null,
   "metadata": {},
   "outputs": [],
   "source": [
    "from sklearn.preprocessing import StandardScaler"
   ]
  },
  {
   "cell_type": "code",
   "execution_count": null,
   "metadata": {},
   "outputs": [],
   "source": [
    "scaler = StandardScaler().fit(nota)"
   ]
  },
  {
   "cell_type": "code",
   "execution_count": null,
   "metadata": {},
   "outputs": [],
   "source": [
    "data_scaled = scaler.transform(nota)"
   ]
  },
  {
   "cell_type": "code",
   "execution_count": null,
   "metadata": {},
   "outputs": [],
   "source": [
    "data_scaled"
   ]
  },
  {
   "cell_type": "code",
   "execution_count": null,
   "metadata": {},
   "outputs": [],
   "source": [
    "data_scaled = data_scaled.reshape(-1,1)"
   ]
  },
  {
   "cell_type": "markdown",
   "metadata": {},
   "source": [
    "# Random Forest Regressor"
   ]
  },
  {
   "cell_type": "code",
   "execution_count": 28,
   "metadata": {},
   "outputs": [],
   "source": [
    "from sklearn.ensemble import RandomForestRegressor\n",
    "from sklearn.model_selection import train_test_split"
   ]
  },
  {
   "cell_type": "code",
   "execution_count": 29,
   "metadata": {},
   "outputs": [],
   "source": [
    "rfr = RandomForestRegressor()"
   ]
  },
  {
   "cell_type": "code",
   "execution_count": 30,
   "metadata": {},
   "outputs": [],
   "source": [
    "X_train, X_test, y_train, y_test = train_test_split(nota.drop('NU_NOTA_MT', axis=1),nota['NU_NOTA_MT'],test_size=0.3,random_state=0)"
   ]
  },
  {
   "cell_type": "code",
   "execution_count": null,
   "metadata": {},
   "outputs": [],
   "source": [
    "X_train.shape,X_test.shape"
   ]
  },
  {
   "cell_type": "code",
   "execution_count": null,
   "metadata": {},
   "outputs": [],
   "source": [
    "y_train.shape,y_test.shape"
   ]
  },
  {
   "cell_type": "code",
   "execution_count": 31,
   "metadata": {},
   "outputs": [
    {
     "data": {
      "text/plain": [
       "RandomForestRegressor(bootstrap=True, ccp_alpha=0.0, criterion='mse',\n",
       "                      max_depth=None, max_features='auto', max_leaf_nodes=None,\n",
       "                      max_samples=None, min_impurity_decrease=0.0,\n",
       "                      min_impurity_split=None, min_samples_leaf=1,\n",
       "                      min_samples_split=2, min_weight_fraction_leaf=0.0,\n",
       "                      n_estimators=100, n_jobs=None, oob_score=False,\n",
       "                      random_state=None, verbose=0, warm_start=False)"
      ]
     },
     "execution_count": 31,
     "metadata": {},
     "output_type": "execute_result"
    }
   ],
   "source": [
    "rfr.fit(X_train,y_train)"
   ]
  },
  {
   "cell_type": "code",
   "execution_count": 32,
   "metadata": {},
   "outputs": [
    {
     "data": {
      "text/plain": [
       "0.9231389743185902"
      ]
     },
     "execution_count": 32,
     "metadata": {},
     "output_type": "execute_result"
    }
   ],
   "source": [
    "rfr.score(X_test, y_test)"
   ]
  },
  {
   "cell_type": "code",
   "execution_count": null,
   "metadata": {},
   "outputs": [],
   "source": [
    "rfr.predict(X_test)"
   ]
  },
  {
   "cell_type": "markdown",
   "metadata": {},
   "source": [
    "# Verificação"
   ]
  },
  {
   "cell_type": "code",
   "execution_count": null,
   "metadata": {},
   "outputs": [],
   "source": [
    "rfr.feature_importances_"
   ]
  },
  {
   "cell_type": "code",
   "execution_count": null,
   "metadata": {},
   "outputs": [],
   "source": [
    "def compara_modelos_random_forest(maxdepth):\n",
    "    if maxdepth == 0:\n",
    "        rfr = RandomForestRegressor(n_estimators=100,random_state=1)\n",
    "    else: \n",
    "        rfr = RandomForestRegressor(n_estimators=100,random_state=1, max_depth=maxdepth)\n",
    "    rfr.fit(X_train, y_train)\n",
    "    train_score = rfr.score(X_train, y_train)\n",
    "    test_score = rfr.score(X_test, y_test)\n",
    "    return train_score,test_score"
   ]
  },
  {
   "cell_type": "code",
   "execution_count": null,
   "metadata": {},
   "outputs": [],
   "source": [
    "print('{:10} {:20} {:20}'.format('depth', 'Training score','Testing score'))\n",
    "print('{:10} {:20} {:20}'.format('-----', '--------------','-------------'))\n",
    "print('{:1}         {} '.format(2,str(compara_modelos_random_forest(2))))\n",
    "print('{:1}         {} '.format(3,str(compara_modelos_random_forest(3))))\n",
    "print('{:1}         {} '.format(4,str(compara_modelos_random_forest(4))))\n",
    "print('{:1}         {} '.format(10,str(compara_modelos_random_forest(10))))\n",
    "print('{:1}         {} '.format(15,str(compara_modelos_random_forest(15))))\n",
    "print('{:1}         {} '.format('Full',str(compara_modelos_random_forest(0))))"
   ]
  },
  {
   "cell_type": "code",
   "execution_count": null,
   "metadata": {},
   "outputs": [],
   "source": [
    "feature_imp = pd.Series(rfr.feature_importances_,index=X_train.columns).sort_values(ascending=False)"
   ]
  },
  {
   "cell_type": "code",
   "execution_count": null,
   "metadata": {},
   "outputs": [],
   "source": [
    "feature_imp"
   ]
  },
  {
   "cell_type": "code",
   "execution_count": null,
   "metadata": {},
   "outputs": [],
   "source": [
    "from sklearn.model_selection import GridSearchCV\n",
    "from sklearn.model_selection import RandomizedSearchCV"
   ]
  },
  {
   "cell_type": "code",
   "execution_count": null,
   "metadata": {},
   "outputs": [],
   "source": [
    "valores_estimators = [10,20,30]\n",
    "valores_criterion = ['mse','mae']\n",
    "valores_max_depth = [10, 20, 50, 100]\n",
    "valores_min_samples_split = [2, 5, 10,15]\n",
    "valores_min_samples_leaf = [1, 5, 10,15]\n",
    "\n",
    "parametros_grid = dict(n_estimators=valores_estimators,\n",
    "                       criterion=valores_criterion,\n",
    "                       max_depth=valores_max_depth,\n",
    "                       min_samples_split=valores_min_samples_split,\n",
    "                       min_samples_leaf=valores_min_samples_leaf \n",
    "                      )\n",
    "\n",
    "grid = GridSearchCV(rfr, parametros_grid, n_jobs=-1, cv=5)"
   ]
  },
  {
   "cell_type": "code",
   "execution_count": null,
   "metadata": {},
   "outputs": [],
   "source": [
    "grid.fit(nota.drop('NU_NOTA_MT', axis=1), nota['NU_NOTA_MT'])"
   ]
  },
  {
   "cell_type": "code",
   "execution_count": null,
   "metadata": {
    "scrolled": true
   },
   "outputs": [],
   "source": [
    "grid.best_params_"
   ]
  },
  {
   "cell_type": "code",
   "execution_count": null,
   "metadata": {},
   "outputs": [],
   "source": [
    "grid.best_score_"
   ]
  },
  {
   "cell_type": "markdown",
   "metadata": {},
   "source": [
    "# Random Forest Regressor 2"
   ]
  },
  {
   "cell_type": "code",
   "execution_count": null,
   "metadata": {},
   "outputs": [],
   "source": [
    "novo = nota"
   ]
  },
  {
   "cell_type": "code",
   "execution_count": null,
   "metadata": {},
   "outputs": [],
   "source": [
    "novo.drop(['Q024','TP_LINGUA','Q026','TP_ST_CONCLUSAO','Q025','TP_ESCOLA','TP_DEPENDENCIA_ADM_ESC','IN_TREINEIRO',\n",
    "           'TP_NACIONALIDADE','IN_SABATISTA','TP_ENSINO','TP_STATUS_REDACAO','IN_GESTANTE','IN_DISCALCULIA','IN_BAIXA_VISAO','IN_IDOSO',\n",
    "           'IN_SURDEZ','IN_DISLEXIA','IN_CEGUEIRA','TP_PRESENCA_CN','TP_PRESENCA_CH','TP_PRESENCA_LC'], axis=1, inplace=True)"
   ]
  },
  {
   "cell_type": "code",
   "execution_count": null,
   "metadata": {},
   "outputs": [],
   "source": [
    "reg = RandomForestRegressor(max_depth=10)"
   ]
  },
  {
   "cell_type": "code",
   "execution_count": null,
   "metadata": {},
   "outputs": [],
   "source": [
    "X2_train, X2_test, y2_train, y2_test = train_test_split(novo.drop('NU_NOTA_MT', axis=1),novo['NU_NOTA_MT'],test_size=0.3,random_state=0)"
   ]
  },
  {
   "cell_type": "code",
   "execution_count": null,
   "metadata": {},
   "outputs": [],
   "source": [
    "reg.fit(X2_train,y2_train)"
   ]
  },
  {
   "cell_type": "code",
   "execution_count": null,
   "metadata": {},
   "outputs": [],
   "source": [
    "reg.score(X2_test, y2_test)"
   ]
  },
  {
   "cell_type": "code",
   "execution_count": null,
   "metadata": {},
   "outputs": [],
   "source": [
    "def compara_modelos_random_forest(maxdepth):\n",
    "    if maxdepth == 0:\n",
    "        reg = RandomForestRegressor(n_estimators=100,random_state=1)\n",
    "    else: \n",
    "        reg = RandomForestRegressor(n_estimators=100,random_state=1, max_depth=maxdepth)\n",
    "    reg.fit(X2_train, y2_train)\n",
    "    train_score = reg.score(X2_train, y2_train)\n",
    "    test_score = reg.score(X2_test, y2_test)\n",
    "    return train_score,test_score"
   ]
  },
  {
   "cell_type": "code",
   "execution_count": null,
   "metadata": {},
   "outputs": [],
   "source": [
    "print('{:10} {:20} {:20}'.format('depth', 'Training score','Testing score'))\n",
    "print('{:10} {:20} {:20}'.format('-----', '--------------','-------------'))\n",
    "print('{:1}         {} '.format(2,str(compara_modelos_random_forest(2))))\n",
    "print('{:1}         {} '.format(3,str(compara_modelos_random_forest(3))))\n",
    "print('{:1}         {} '.format(4,str(compara_modelos_random_forest(4))))\n",
    "print('{:1}         {} '.format(10,str(compara_modelos_random_forest(10))))\n",
    "print('{:1}         {} '.format(15,str(compara_modelos_random_forest(15))))\n",
    "print('{:1}         {} '.format('Full',str(compara_modelos_random_forest(0))))"
   ]
  },
  {
   "cell_type": "markdown",
   "metadata": {},
   "source": [
    "# Teste"
   ]
  },
  {
   "cell_type": "code",
   "execution_count": null,
   "metadata": {},
   "outputs": [],
   "source": [
    "nteste.isnull().sum()"
   ]
  },
  {
   "cell_type": "code",
   "execution_count": null,
   "metadata": {},
   "outputs": [],
   "source": [
    "nteste"
   ]
  },
  {
   "cell_type": "code",
   "execution_count": 33,
   "metadata": {},
   "outputs": [],
   "source": [
    "result = rfr.predict(nteste)"
   ]
  },
  {
   "cell_type": "code",
   "execution_count": 34,
   "metadata": {},
   "outputs": [
    {
     "data": {
      "text/plain": [
       "array([444.535, 442.658, 595.332, ..., 657.337, 458.071,   0.   ])"
      ]
     },
     "execution_count": 34,
     "metadata": {},
     "output_type": "execute_result"
    }
   ],
   "source": [
    "result"
   ]
  },
  {
   "cell_type": "code",
   "execution_count": 35,
   "metadata": {},
   "outputs": [],
   "source": [
    "df['NU_NOTA_MT'] = result"
   ]
  },
  {
   "cell_type": "code",
   "execution_count": null,
   "metadata": {},
   "outputs": [],
   "source": [
    "df.reindex(level='NU_INSCRICAO')"
   ]
  },
  {
   "cell_type": "code",
   "execution_count": null,
   "metadata": {},
   "outputs": [],
   "source": [
    "df.set_index('NU_INSCRICAO',drop=True)"
   ]
  },
  {
   "cell_type": "code",
   "execution_count": 36,
   "metadata": {},
   "outputs": [],
   "source": [
    "df.to_csv('answer.csv')"
   ]
  },
  {
   "cell_type": "code",
   "execution_count": null,
   "metadata": {},
   "outputs": [],
   "source": [
    "nteste.to_csv('teste2.csv')"
   ]
  }
 ],
 "metadata": {
  "kernelspec": {
   "display_name": "Python 3",
   "language": "python",
   "name": "python3"
  },
  "language_info": {
   "codemirror_mode": {
    "name": "ipython",
    "version": 3
   },
   "file_extension": ".py",
   "mimetype": "text/x-python",
   "name": "python",
   "nbconvert_exporter": "python",
   "pygments_lexer": "ipython3",
   "version": "3.7.0"
  }
 },
 "nbformat": 4,
 "nbformat_minor": 2
}
